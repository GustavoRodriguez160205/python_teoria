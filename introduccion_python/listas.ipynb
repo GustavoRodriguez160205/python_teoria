{
 "cells": [
  {
   "cell_type": "markdown",
   "metadata": {},
   "source": [
    "\n",
    "# Listas en Python\n",
    "\n",
    "## ¿Qué es una lista?\n",
    "\n",
    "Una **lista** en Python es una estructura de datos que puede almacenar múltiples elementos en un solo objeto. Los elementos de una lista pueden ser de cualquier tipo: enteros, flotantes, cadenas, otros objetos, o incluso otras listas. Las listas en Python son **mutables**, lo que significa que se pueden modificar después de haber sido creadas.\n",
    "\n",
    "### Características de una lista:\n",
    "\n",
    "- **Ordenada**: Los elementos mantienen el orden en que se agregan.\n",
    "- **Mutable**: Se pueden cambiar, agregar o eliminar elementos.\n",
    "- **Heterogénea**: Puede contener diferentes tipos de datos.\n",
    "- **Acceso por índice**: Se puede acceder a sus elementos mediante un índice numérico.\n",
    "\n"
   ]
  },
  {
   "cell_type": "code",
   "execution_count": 1,
   "metadata": {},
   "outputs": [
    {
     "name": "stdout",
     "output_type": "stream",
     "text": [
      "4\n",
      "Pera\n"
     ]
    }
   ],
   "source": [
    "#Indices : 0        1           2           3\n",
    "frutas = ['Pera' , 'Manzana' , 'Banana' , 'Uva']\n",
    "longitud = len(frutas) # Calculamos la longitud\n",
    "print(longitud)\n",
    "print(frutas[0])"
   ]
  },
  {
   "cell_type": "markdown",
   "metadata": {},
   "source": [
    "# ¿Qué podemos contener en las listas?\n",
    "\n",
    "Las listas en Python pueden contener una variedad de tipos de datos, incluyendo:\n",
    "\n",
    "- **Booleanos** (`True`, `False`)\n",
    "- **Strings** (cadenas de texto)\n",
    "- **Números enteros** (`int`)\n",
    "- **Números flotantes** (`float`)\n",
    "- **Otros tipos de datos** como:\n",
    "  - Otras listas (listas anidadas)\n",
    "  - Tuplas\n",
    "  - Diccionarios\n",
    "  - Objetos (instancias de clases)\n",
    "  - Funciones\n",
    "\n",
    "Python permite que las listas contengan una mezcla de diferentes tipos de datos en un solo contenedor.\n"
   ]
  },
  {
   "cell_type": "code",
   "execution_count": 2,
   "metadata": {},
   "outputs": [
    {
     "name": "stdout",
     "output_type": "stream",
     "text": [
      "Esto nos va a decir que tipo de lista es: <class 'list'>\n",
      "La lista de strings es: ['Alfa', 'Beta', 'Gama']\n",
      "La lista mezclada es: ['Hola', 10, True, False]\n",
      "La lista de numbers es: [0, 1, 2, 3, 4]\n"
     ]
    }
   ],
   "source": [
    "listaStrings = ['Alfa' , 'Beta' , 'Gama']\n",
    "listaNumbers = [0 , 1 , 2 , 3 , 4]\n",
    "listaMezclada = ['Hola' , 10 , True , False]\n",
    "\n",
    "tipo = type(listaMezclada)\n",
    "\n",
    "print(f'Esto nos va a decir que tipo de lista es: {tipo}')\n",
    "print(f'La lista de strings es: {listaStrings}')\n",
    "print(f'La lista mezclada es: {listaMezclada}')\n",
    "print(f'La lista de numbers es: {listaNumbers}')"
   ]
  },
  {
   "cell_type": "markdown",
   "metadata": {},
   "source": [
    "# ¿Como se crea una lista desde un constructor?"
   ]
  },
  {
   "cell_type": "code",
   "execution_count": 3,
   "metadata": {},
   "outputs": [
    {
     "name": "stdout",
     "output_type": "stream",
     "text": [
      "['Beta', 2, False]\n"
     ]
    }
   ],
   "source": [
    "listaDesdeConstructor = list(('Beta' , 2 , False))\n",
    "print(listaDesdeConstructor)"
   ]
  },
  {
   "cell_type": "markdown",
   "metadata": {},
   "source": [
    "# Accedemos a los datos"
   ]
  },
  {
   "cell_type": "code",
   "execution_count": 4,
   "metadata": {},
   "outputs": [
    {
     "name": "stdout",
     "output_type": "stream",
     "text": [
      "La posición 0 es: Marcopolo\n",
      "El ultimo valor de la lista es: Irizar\n",
      "Para acceder a una lista desde el comienzo: ['Marcopolo', 'Ugarte']\n",
      "Lista desde el 2 hasta el final: ['MercedesBenz', 'Volvo', 'Irizar']\n",
      "Para acceder a una parte de la lista: ['MercedesBenz', 'Volvo', 'Irizar']\n"
     ]
    }
   ],
   "source": [
    "Buses = ['Marcopolo' , 'Ugarte' , 'MercedesBenz' , 'Volvo' , 'Irizar']\n",
    "\n",
    "\n",
    "print(f'La posición 0 es: {Buses[0]}')\n",
    "print(f'El ultimo valor de la lista es: {Buses[-1]}')\n",
    "print(f'Para acceder a una lista desde el comienzo: {Buses[:2]}') # Desde el comienzo , desde el 2 no incluido\n",
    "print(f'Lista desde el 2 hasta el final: {Buses[2:]}') # Desde el 2 hasta el final\n",
    "print(f'Para acceder a una parte de la lista: {Buses[2:5]}')"
   ]
  },
  {
   "cell_type": "markdown",
   "metadata": {},
   "source": [
    "# ¿Esta en la lista?\n",
    "\n"
   ]
  },
  {
   "cell_type": "code",
   "execution_count": 5,
   "metadata": {},
   "outputs": [
    {
     "name": "stdout",
     "output_type": "stream",
     "text": [
      "Si , está incluido\n"
     ]
    }
   ],
   "source": [
    "if 'Marcopolo' in Buses:\n",
    "    print('Si , está incluido')"
   ]
  },
  {
   "cell_type": "markdown",
   "metadata": {},
   "source": [
    "# ¿ Como cambiamos la lista?"
   ]
  },
  {
   "cell_type": "code",
   "execution_count": 6,
   "metadata": {},
   "outputs": [
    {
     "name": "stdout",
     "output_type": "stream",
     "text": [
      "['Python', 'RubyORails', 'Numpy', 'Scrapy', 'TensoFlow', 'JavaScript']\n"
     ]
    }
   ],
   "source": [
    "lenguajes = ['Python' , 'RubyORails' , 'Pandas' , 'Angular' , 'JavaScript']\n",
    "\n",
    "lenguajes[3] = 'TensoFlow' # Reemplazamos el elemento ed un índice en particular\n",
    "lenguajes[2:3] = ['Numpy' , 'Scrapy'] # Reemplazamos una parte\n",
    "\n",
    "print(lenguajes)"
   ]
  },
  {
   "cell_type": "markdown",
   "metadata": {},
   "source": [
    "# ¿ Como agregamos elementos?"
   ]
  },
  {
   "cell_type": "code",
   "execution_count": 7,
   "metadata": {},
   "outputs": [
    {
     "name": "stdout",
     "output_type": "stream",
     "text": [
      "['Python', 'Flask', 'RubyORails', 'Numpy', 'Scrapy', 'TensoFlow', 'JavaScript', 'c#', 'Vue', 'Boostrap']\n"
     ]
    }
   ],
   "source": [
    "\n",
    "# Insertamos 'Flask' en el índice 1 (desplazando el resto de los elementos hacia la derecha)\n",
    "lenguajes.insert(1, 'Flask') \n",
    "\n",
    "# Agregamos 'C#' al final de la lista\n",
    "lenguajes.append('C#') \n",
    "\n",
    "# Tupla que contiene tecnologías de Frontend\n",
    "frontEnd = ('Vue', 'Bootstrap')\n",
    "\n",
    "# Extendemos la lista de lenguajes añadiendo los elementos de la tupla 'frontEnd'\n",
    "lenguajes.extend(frontEnd) \n",
    "\n",
    "# Imprimimos la lista actualizada de lenguajes\n",
    "print(lenguajes)\n"
   ]
  },
  {
   "cell_type": "markdown",
   "metadata": {},
   "source": [
    "# ¿ Como eliminamos elementos?\n"
   ]
  },
  {
   "cell_type": "code",
   "execution_count": 8,
   "metadata": {},
   "outputs": [
    {
     "name": "stdout",
     "output_type": "stream",
     "text": [
      "Después de remove: ['Python', 'JavaScript', 'React', 'Angular']\n",
      "Tecnología eliminada con pop: React\n",
      "Después de pop: ['Python', 'JavaScript', 'Angular']\n",
      "Última tecnología eliminada: Angular\n",
      "Después de eliminar la última tecnología: ['Python', 'JavaScript']\n"
     ]
    }
   ],
   "source": [
    "tecnologias = ['Python', 'JavaScript', 'React', 'Angular', 'Vue']\n",
    "\n",
    "# Usar remove para eliminar 'Vue'\n",
    "tecnologias.remove('Vue')  # Elimina la primera ocurrencia de 'Vue'\n",
    "print(f\"Después de remove: {tecnologias}\")\n",
    "\n",
    "# Usar pop para eliminar el elemento en el índice 2 (que es 'React')\n",
    "tecnologia_eliminada = tecnologias.pop(2)  # Elimina y devuelve 'React'\n",
    "print(f\"Tecnología eliminada con pop: {tecnologia_eliminada}\")\n",
    "print(f\"Después de pop: {tecnologias}\")\n",
    "\n",
    "# Usar pop sin índice para eliminar el último elemento\n",
    "ultima_tecnologia = tecnologias.pop()  # Elimina y devuelve el último elemento\n",
    "print(f\"Última tecnología eliminada: {ultima_tecnologia}\")\n",
    "print(f\"Después de eliminar la última tecnología: {tecnologias}\")\n",
    "\n"
   ]
  }
 ],
 "metadata": {
  "kernelspec": {
   "display_name": "Python 3",
   "language": "python",
   "name": "python3"
  },
  "language_info": {
   "codemirror_mode": {
    "name": "ipython",
    "version": 3
   },
   "file_extension": ".py",
   "mimetype": "text/x-python",
   "name": "python",
   "nbconvert_exporter": "python",
   "pygments_lexer": "ipython3",
   "version": "3.12.5"
  }
 },
 "nbformat": 4,
 "nbformat_minor": 2
}
