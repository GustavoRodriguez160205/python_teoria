{
 "cells": [
  {
   "cell_type": "markdown",
   "metadata": {},
   "source": [
    "# Listas en Python\n",
    "\n",
    "## ¿Qué es una lista?\n",
    "\n",
    "Una lista **Lista** en python es una estructura de datos que puede almacenar múltiples elementos en un solo objeto. Ls listas en Pythonson **mutables** , lo que significa que se pueden modificar después de haber sido creadas.\n",
    "\n",
    "\n",
    "### Características de una lista\n",
    "\n",
    "- **Ordenadas** : Los elementos mantienen el orden en que se agregan.\n",
    "- **Mutables** : Se pueden cambiar , agregar o  eliminar elementos.\n",
    "- **Heterogéneas** : Puede contener difertes tipos de datos.\n",
    "- **Acceso por índice** : Se pueed acceder a sus elementos mediante un índice numérico"
   ]
  },
  {
   "cell_type": "code",
   "execution_count": 1,
   "metadata": {},
   "outputs": [
    {
     "name": "stdout",
     "output_type": "stream",
     "text": [
      "La longitud de de la cadena es: 3\n",
      "Accedemos a la posición: Manzana\n"
     ]
    }
   ],
   "source": [
    "# Indices : 0       1           2\n",
    "frutas = ['Pera' , 'Manzana' , 'Uva']\n",
    "longitud = len(frutas)\n",
    "\n",
    "print(f'La longitud de de la cadena es: {longitud}')\n",
    "print(f'Accedemos a la posición: {frutas[1]}')\n"
   ]
  },
  {
   "cell_type": "markdown",
   "metadata": {},
   "source": [
    "# ¿Qué podemos contener en una lista?\n",
    "\n",
    "Las listas en python pueden contener una variedd de tipos de datos , incluyendo:\n",
    "\n",
    "- **Booleanos**: (True , False)\n",
    "- **Strings**: (Cadenas de texto)\n",
    "- **Números Flotantes** : (Float)\n",
    "- **Otors tipos de datos** como:\n",
    "- Otras listas (Listas anidadas)\n",
    "- Tuplas\n",
    "- Diccionarios\n",
    "- Objetos\n",
    "- Funciones\n",
    "\n",
    "Python permite que las listas contengan una mezcla de diferentes tipos de datos en una sola lista"
   ]
  },
  {
   "cell_type": "code",
   "execution_count": 2,
   "metadata": {},
   "outputs": [
    {
     "name": "stdout",
     "output_type": "stream",
     "text": [
      "Esto nos va a decir que tipo de lista es: <class 'list'>\n",
      "La lista de strigs es: ['Alfa', 'Beta', 'Gama']\n",
      "La lista de números es: [0, 1, 2, 3, 4, 5, 6, 7, 8, 9]\n"
     ]
    }
   ],
   "source": [
    "listaStrings = ['Alfa' , 'Beta' , 'Gama']\n",
    "listaNumbers = [0,1,2,3,4,5,6,7,8,9]\n",
    "listaMezclada = ['Hola' , 12 , True , 12.3]\n",
    "\n",
    "tipo = type(listaNumbers)\n",
    "\n",
    "print(f'Esto nos va a decir que tipo de lista es: {tipo}')\n",
    "print(f'La lista de strigs es: {listaStrings}')\n",
    "print(f'La lista de números es: {listaNumbers}')\n"
   ]
  },
  {
   "cell_type": "markdown",
   "metadata": {},
   "source": [
    "# ¿Como creamos una lista desde constructor?"
   ]
  },
  {
   "cell_type": "code",
   "execution_count": 3,
   "metadata": {},
   "outputs": [
    {
     "name": "stdout",
     "output_type": "stream",
     "text": [
      "La lista desde constructor es: ['Beta', 3, False]\n"
     ]
    }
   ],
   "source": [
    "listaDesdeConstructor = list(('Beta' , 3 , False))\n",
    "\n",
    "print(f'La lista desde constructor es: {listaDesdeConstructor}')"
   ]
  },
  {
   "cell_type": "markdown",
   "metadata": {},
   "source": [
    "# Accedemos a los datos de una lista"
   ]
  },
  {
   "cell_type": "code",
   "execution_count": 6,
   "metadata": {},
   "outputs": [
    {
     "name": "stdout",
     "output_type": "stream",
     "text": [
      "La posición 0 es: Renault Sandero\n",
      "El ultimo valor de la lista es : Toyota Yaris\n",
      "Para acceder a la lista desde el comienzo: ['Renault Sandero', 'Peugeot 208', 'Ford Ranger', 'Toyota Yaris']\n",
      "Para acceder a una parte de la lista: ['Renault Sandero', 'Peugeot 208', 'Ford Ranger']\n"
     ]
    }
   ],
   "source": [
    "autos = ['Renault Sandero' , 'Peugeot 208' , 'Ford Ranger' , 'Toyota Yaris']\n",
    "\n",
    "print(f'La posición 0 es: {autos[0]}')\n",
    "print(f'El ultimo valor de la lista es : {autos[-1]}')\n",
    "print(f'Para acceder a la lista desde el comienzo: {autos[:5]}')\n",
    "print(f'Para acceder a una parte de la lista: {autos[0:3]}')\n"
   ]
  },
  {
   "cell_type": "markdown",
   "metadata": {},
   "source": [
    "# ¿ Esta en la lista?"
   ]
  },
  {
   "cell_type": "code",
   "execution_count": 8,
   "metadata": {},
   "outputs": [
    {
     "name": "stdout",
     "output_type": "stream",
     "text": [
      "Si esta en la lista\n"
     ]
    }
   ],
   "source": [
    "if 'Renault Sandero' in autos:\n",
    "    print('Si , esta en la lista')"
   ]
  },
  {
   "cell_type": "markdown",
   "metadata": {},
   "source": [
    "# ¿ Como cambiamos la lista?"
   ]
  },
  {
   "cell_type": "code",
   "execution_count": 10,
   "metadata": {},
   "outputs": [
    {
     "name": "stdout",
     "output_type": "stream",
     "text": [
      "['Citroen C3', 'Renault Captur', 'Ford Ranger', 'Toyota Yaris']\n",
      "La lista cambiada es: ['Citroen C3', 'Renault Captur', 'Ford Ranger', 'Toyota Yaris']\n"
     ]
    }
   ],
   "source": [
    "autos[1] = 'Fiat Cronos'\n",
    "autos[0:2] = ['Citroen C3' , 'Renault Captur']\n",
    "\n",
    "print(f'La lista cambiada es: {autos}')"
   ]
  },
  {
   "cell_type": "markdown",
   "metadata": {},
   "source": [
    "# ¿ Como agregamos elementos?"
   ]
  },
  {
   "cell_type": "code",
   "execution_count": 12,
   "metadata": {},
   "outputs": [
    {
     "name": "stdout",
     "output_type": "stream",
     "text": [
      "['Citroen C3', 'Renault Captur', 'Ford Ranger', 'Toyota Yaris', 'Peugeot 408', 'Toyota Corolla', 'Peugeot 408', 'Amarok V6 ', 'Wolskwagen Taos', 'Toyota Corolla', 'Amarok V6 ', 'Wolskwagen Taos']\n"
     ]
    }
   ],
   "source": [
    "autos.insert(6 , 'Peugeot 408') # Agremamos uno en la posición\n",
    "autos.append('Toyota Corolla') # Agregamos al final\n",
    "\n",
    "subs = ('Amarok V6 ', 'Wolskwagen Taos' )\n",
    "autos.extend(subs) # Extendemos la lista\n",
    "\n",
    "print(autos)\n"
   ]
  },
  {
   "cell_type": "markdown",
   "metadata": {},
   "source": [
    "# Eliminando elementos de la lista"
   ]
  },
  {
   "cell_type": "code",
   "execution_count": 22,
   "metadata": {},
   "outputs": [
    {
     "name": "stdout",
     "output_type": "stream",
     "text": [
      "Despues de remove : ['Fiat Cronos', 'Peugeot 208', 'Toyota Hilux', 'Volkswagen Amarok', 'Chevrolet Tracker', 'Toyota Etios', 'Renault Sandero', 'Toyota Yaris', 'Volkswagen Taos']\n",
      "Auto eliminado con pop: Toyota Hilux\n",
      "Despues de pop : ['Fiat Cronos', 'Peugeot 208', 'Volkswagen Amarok', 'Chevrolet Tracker', 'Toyota Etios', 'Renault Sandero', 'Toyota Yaris', 'Volkswagen Taos']\n"
     ]
    }
   ],
   "source": [
    "\n",
    "autos = ['Fiat Cronos', 'Peugeot 208', 'Toyota Hilux', 'Volkswagen Amarok', 'Chevrolet Tracker', 'Toyota Etios', 'Renault Sandero', 'Toyota Yaris', 'Volkswagen Taos', 'Ford Ranger']\n",
    "\n",
    "# Eliminar la primera ocurrencia de 'Ford Ranger'\n",
    "autos.remove('Ford Ranger')\n",
    "print(f'Despues de remove : {autos}')\n",
    "\n",
    "# Eliminar el auto en el índice 2 usando pop\n",
    "autos_eliminados = autos.pop(2)\n",
    "print(f'Auto eliminado con pop: {autos_eliminados}')\n",
    "print(f'Despues de pop : {autos}')\n"
   ]
  }
 ],
 "metadata": {
  "kernelspec": {
   "display_name": "Python 3",
   "language": "python",
   "name": "python3"
  },
  "language_info": {
   "codemirror_mode": {
    "name": "ipython",
    "version": 3
   },
   "file_extension": ".py",
   "mimetype": "text/x-python",
   "name": "python",
   "nbconvert_exporter": "python",
   "pygments_lexer": "ipython3",
   "version": "3.12.5"
  }
 },
 "nbformat": 4,
 "nbformat_minor": 2
}
