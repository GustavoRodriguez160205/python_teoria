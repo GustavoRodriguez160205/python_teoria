{
 "cells": [
  {
   "cell_type": "markdown",
   "metadata": {},
   "source": [

  {
   "cell_type": "code",
   "execution_count": 23,
   "metadata": {},
   "outputs": [
    {
     "name": "stdout",
     "output_type": "stream",
     "text": [
      "El tercer lenguaje es: Java\n",
      "La nueva tupla de lenguajes es: ('Python', 'JavaScript', 'C#', 'C++', 'Ruby')\n"
     ]
    }
   ],
   "source": [
    "\n",
    "lenguajes = (\"Python\", \"JavaScript\", \"Java\", \"C++\", \"Ruby\")\n",
    "\n",
    "# Convertir la tupla en una lista para poder modificarla\n",
    "lista_lenguajes = list(lenguajes)\n",
    "\n",
    "# Imprimir el tercer elemento (índice 2)\n",
    "print(f\"El tercer lenguaje es: {lista_lenguajes[2]}\")  \n",
    "\n",
    "# Modificar el tercer elemento \n",
    "lista_lenguajes[2] = \"C#\"\n",
    "\n",
    "# Convertir la lista de nuevo en una tupla\n",
    "lenguajes_modificados = tuple(lista_lenguajes)\n",
    "\n",
    "\n",
    "print(\"La nueva tupla de lenguajes es:\", lenguajes_modificados)\n",
    "\n"
   ]
  },
  {
   "cell_type": "markdown",
   "metadata": {},
   "source": [
    "# Desempaquetamiento"
   ]
  },
  {
   "cell_type": "code",
   "execution_count": 29,
   "metadata": {},
   "outputs": [
    {
     "name": "stdout",
     "output_type": "stream",
     "text": [
      "Nombre: Juan\n",
      "Edad: 20\n",
      "Promedio: 8.5\n",
      "\n",
      "Resultados del desempaquetado con asterisco:\n",
      "Nombre: Juan\n",
      "Edad y Carrera: [20, 'Ingeniería']\n",
      "Promedio: 8.5\n"
     ]
    }
   ],
   "source": [
    "\n",
    "estudiante = (\"Juan\", 20, \"Ingeniería\", 8.5)\n",
    "\n",
    "# Desempaquetamos la tupla en variables individuales\n",
    "nombre, edad, carrera, promedio = estudiante\n",
    "\n",
    "# Imprimimos los valores desempaquetados\n",
    "print(\"Nombre:\", nombre)      \n",
    "print(\"Edad:\", edad)            \n",
    "print(\"Promedio:\", promedio) \n",
    "\n",
    "# Desempaquetado con asterisco para capturar múltiples elementos\n",
    "nombre, *otros_datos, promedio = estudiante\n",
    "\n",
    "# Imprimimos los resultados del desempaquetado con asterisco\n",
    "print(\"\\nResultados del desempaquetado con asterisco:\")\n",
    "print(\"Nombre:\", nombre)                        \n",
    "print(\"Edad y Carrera:\", otros_datos)          \n",
    "print(\"Promedio:\", promedio)                   \n",
    "\n"
   ]
  },
  {
   "cell_type": "markdown",
   "metadata": {},
   "source": [
    "# Recorremos las tuplas , igual a las Listas"
   ]
  },
  {
   "cell_type": "code",
   "execution_count": 34,
   "metadata": {},
   "outputs": [
    {
     "name": "stdout",
     "output_type": "stream",
     "text": [
      "Python\n",
      "JavaScript\n",
      "Java\n",
      "C++\n",
      "1. Python\n",
      "2. JavaScript\n",
      "3. Java\n",
      "4. C++\n"
     ]
    }
   ],
   "source": [
    "lenguajes = ('Python', 'JavaScript', 'Java', 'C++')\n",
    "\n",
    "for tecnologias in lenguajes:\n",
    "    print(tecnologias)\n",
    "\n",
    "\n",
    "for i in range(len(lenguajes)):\n",
    "    print(f'{i + 1}. {lenguajes[i]}')\n",
    "\n",
    "\n"
   ]
  },
  {
   "cell_type": "markdown",
   "metadata": {},
   "source": [
    "# Unir tuplas "
   ]
  },
  {
   "cell_type": "code",

   "metadata": {},
   "outputs": [
    {
     "name": "stdout",
     "output_type": "stream",
     "text": [
      "\n",
      "La unión de las tuplas quedara asi: ('Naranja', 'Limon', 'Pomelo', 'Papaya', 'Coco')\n"
     ]
    }
   ],
   "source": [
    "tupla1 = ('Naranja' , 'Limon' , 'Pomelo')\n",
    "tupla2 = ('Papaya' , 'Coco')\n",
    "\n",
    "frutas = tupla1 + tupla2\n",
    "\n",
    "print(\"\\nLa unión de las tuplas quedara asi:\" , frutas)"
   ]

  }
 ],
 "metadata": {
  "kernelspec": {
   "display_name": "Python 3",
   "language": "python",
   "name": "python3"
  },
  "language_info": {
   "codemirror_mode": {
    "name": "ipython",
    "version": 3
   },
   "file_extension": ".py",
   "mimetype": "text/x-python",
   "name": "python",
   "nbconvert_exporter": "python",
   "pygments_lexer": "ipython3",
   "version": "3.12.5"
  }
 },
 "nbformat": 4,
 "nbformat_minor": 2
}
