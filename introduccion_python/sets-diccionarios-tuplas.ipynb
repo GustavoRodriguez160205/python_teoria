{
 "cells": [
  {
   "cell_type": "markdown",
   "metadata": {},
   "source": [
    "# Tuplas en Python\n",
    "\n",
    "## ¿Qué son las tuplas?\n",
    "\n",
    "Una **tupla** es una colección **ordenada** e **inmutable** de elementos. Aunque son muy similares a las listas, existen algunas diferencias clave que las hacen útiles en situaciones específicas.\n",
    "\n",
    "### Características principales de las tuplas:\n",
    "- **Ordenadas**: Los elementos en una tupla tienen un orden fijo, por lo que puedes acceder a ellos usando un índice.\n",
    "- **Inmutables**: Una vez creada, no se pueden modificar los elementos de una tupla (no se pueden agregar, eliminar o cambiar).\n",
    "- **Heterogéneas**: Pueden contener elementos de diferentes tipos de datos (como números, cadenas, booleanos, etc.).\n",
    "- **Más eficientes**: Las tuplas pueden ser más rápidas y consumir menos memoria que las listas, debido a su naturaleza inmutable.\n",
    "  \n",
    "### ¿Cuándo usar una tupla en lugar de una lista?\n",
    "- Cuando sabes que los datos no deben cambiar a lo largo del programa.\n",
    "- Cuando quieres asegurarte de que los elementos sean constantes (como las coordenadas, los días de la semana, etc.).\n",
    "- En situaciones donde el rendimiento y el uso de memoria son importantes.\n"
   ]
  },
  {
   "cell_type": "code",
   "execution_count": 23,
   "metadata": {},
   "outputs": [
    {
     "name": "stdout",
     "output_type": "stream",
     "text": [
      "El tercer lenguaje es: Java\n",
      "La nueva tupla de lenguajes es: ('Python', 'JavaScript', 'C#', 'C++', 'Ruby')\n"
     ]
    }
   ],
   "source": [
    "\n",
    "lenguajes = (\"Python\", \"JavaScript\", \"Java\", \"C++\", \"Ruby\")\n",
    "\n",
    "# Convertir la tupla en una lista para poder modificarla\n",
    "lista_lenguajes = list(lenguajes)\n",
    "\n",
    "# Imprimir el tercer elemento (índice 2)\n",
    "print(f\"El tercer lenguaje es: {lista_lenguajes[2]}\")  \n",
    "\n",
    "# Modificar el tercer elemento \n",
    "lista_lenguajes[2] = \"C#\"\n",
    "\n",
    "# Convertir la lista de nuevo en una tupla\n",
    "lenguajes_modificados = tuple(lista_lenguajes)\n",
    "\n",
    "\n",
    "print(\"La nueva tupla de lenguajes es:\", lenguajes_modificados)\n",
    "\n"
   ]
  },
  {
   "cell_type": "markdown",
   "metadata": {},
   "source": [
    "# Desempaquetamiento"
   ]
  },
  {
   "cell_type": "code",
   "execution_count": 29,
   "metadata": {},
   "outputs": [
    {
     "name": "stdout",
     "output_type": "stream",
     "text": [
      "Nombre: Juan\n",
      "Edad: 20\n",
      "Promedio: 8.5\n",
      "\n",
      "Resultados del desempaquetado con asterisco:\n",
      "Nombre: Juan\n",
      "Edad y Carrera: [20, 'Ingeniería']\n",
      "Promedio: 8.5\n"
     ]
    }
   ],
   "source": [
    "\n",
    "estudiante = (\"Juan\", 20, \"Ingeniería\", 8.5)\n",
    "\n",
    "# Desempaquetamos la tupla en variables individuales\n",
    "nombre, edad, carrera, promedio = estudiante\n",
    "\n",
    "# Imprimimos los valores desempaquetados\n",
    "print(\"Nombre:\", nombre)      \n",
    "print(\"Edad:\", edad)            \n",
    "print(\"Promedio:\", promedio) \n",
    "\n",
    "# Desempaquetado con asterisco para capturar múltiples elementos\n",
    "nombre, *otros_datos, promedio = estudiante\n",
    "\n",
    "# Imprimimos los resultados del desempaquetado con asterisco\n",
    "print(\"\\nResultados del desempaquetado con asterisco:\")\n",
    "print(\"Nombre:\", nombre)                        \n",
    "print(\"Edad y Carrera:\", otros_datos)          \n",
    "print(\"Promedio:\", promedio)                   \n",
    "\n"
   ]
  },
  {
   "cell_type": "markdown",
   "metadata": {},
   "source": [
    "# Recorremos las tuplas , igual a las Listas"
   ]
  },
  {
   "cell_type": "code",
   "execution_count": 34,
   "metadata": {},
   "outputs": [
    {
     "name": "stdout",
     "output_type": "stream",
     "text": [
      "Python\n",
      "JavaScript\n",
      "Java\n",
      "C++\n",
      "1. Python\n",
      "2. JavaScript\n",
      "3. Java\n",
      "4. C++\n"
     ]
    }
   ],
   "source": [
    "lenguajes = ('Python', 'JavaScript', 'Java', 'C++')\n",
    "\n",
    "for tecnologias in lenguajes:\n",
    "    print(tecnologias)\n",
    "\n",
    "\n",
    "for i in range(len(lenguajes)):\n",
    "    print(f'{i + 1}. {lenguajes[i]}')\n",
    "\n",
    "\n"
   ]
  },
  {
   "cell_type": "markdown",
   "metadata": {},
   "source": [
    "# Unir tuplas "
   ]
  },
  {
   "cell_type": "code",
   "execution_count": 1,
   "metadata": {},
   "outputs": [
    {
     "name": "stdout",
     "output_type": "stream",
     "text": [
      "\n",
      "La unión de las tuplas quedara asi: ('Naranja', 'Limon', 'Pomelo', 'Papaya', 'Coco')\n"
     ]
    }
   ],
   "source": [
    "tupla1 = ('Naranja' , 'Limon' , 'Pomelo')\n",
    "tupla2 = ('Papaya' , 'Coco')\n",
    "\n",
    "frutas = tupla1 + tupla2\n",
    "\n",
    "print(\"\\nLa unión de las tuplas quedara asi:\" , frutas)"
   ]
  },
  {
   "cell_type": "markdown",
   "metadata": {},
   "source": [
    "# Sets en Python\n",
    "\n",
    "## ¿Qué es un Set?\n",
    "\n",
    "Un **Set** en Python es una colección de elementos **desordenada** y **sin duplicados**. A diferencia de las listas o tuplas, los elementos de un set no tienen un orden específico y cada elemento debe ser único.\n",
    "\n",
    "### Características principales de los Sets:\n",
    "- **No tienen elementos duplicados**: Si intentas agregar un elemento que ya está en el set, no se añadirá.\n",
    "- **Desordenados**: No tienen un índice o posición específica, lo que significa que no se puede acceder a los elementos con un índice como en listas o tuplas.\n",
    "- **Mutables**: Puedes agregar o eliminar elementos de un set después de haberlo creado.\n",
    "- **Inmutables dentro de sí**: Los elementos del set deben ser tipos de datos inmutables (como números, cadenas o tuplas).\n",
    "\n"
   ]
  },
  {
   "cell_type": "code",
   "execution_count": 6,
   "metadata": {},
   "outputs": [
    {
     "name": "stdout",
     "output_type": "stream",
     "text": [
      "La longitud del set es de: 4\n",
      "Para saber el tipo: <class 'set'>\n",
      "Lista desde constructor: {'Este', 'set', 'es', 'un'}\n"
     ]
    }
   ],
   "source": [
    "conjunto = {1, 1, 2, 2, 3, 3, 4, 4}\n",
    "conjuntoDesdeConstructor = set(('Este' , 'es' , 'un' , 'curso' , 'de' , 'Python'))\n",
    "\n",
    "print('La longitud del set es de:', len(conjunto))\n",
    "print('Para saber el tipo:', type(conjunto))\n",
    "\n",
    "\n"
   ]
  },
  {
   "cell_type": "markdown",
   "metadata": {},
   "source": [
    "# ¿ Está dentro del set?"
   ]
  },
  {
   "cell_type": "code",
   "execution_count": 12,
   "metadata": {},
   "outputs": [
    {
     "name": "stdout",
     "output_type": "stream",
     "text": [
      "Si está la palabra\n",
      "Java no se encuentra\n"
     ]
    }
   ],
   "source": [
    "conjunto1 = {'Este' , 'es' , 'un' , 'curso' , 'de' , 'python'}\n",
    "\n",
    "if 'Este' in conjunto1: # Para saber si un elemento está\n",
    "    print('Si está la palabra')\n",
    "\n",
    "if 'Java' not in conjunto1: # Para saber si un elemento no está\n",
    "    print('Java no se encuentra')"
   ]
  },
  {
   "cell_type": "markdown",
   "metadata": {},
   "source": [
    "# ¿ Como agregamos a un conjunto?"
   ]
  },
  {
   "cell_type": "code",
   "execution_count": 20,
   "metadata": {},
   "outputs": [
    {
     "name": "stdout",
     "output_type": "stream",
     "text": [
      "La lista unida queda así: {'OnePlus', 'Motorola', 'Apple', 'Xiaomi', 'Huawei', 'Samsung', 'Nokia'}\n",
      "Agregamos un producto al set: {'OnePlus', 'Motorola', 'Apple', 'Xiaomi', 'Huawei', 'Samsung', 'Nokia'}\n",
      "El set de teléfonos queda así: {'OnePlus', 'Motorola', 'Apple', 'Xiaomi', 'Huawei', 'Samsung', 'Nokia'}\n"
     ]
    }
   ],
   "source": [
    "# Definimos dos sets de marcas de teléfonos\n",
    "telefonos = {'Xiaomi', 'Motorola', 'Samsung'}\n",
    "telefonos1 = {'Huawei', 'OnePlus', 'Nokia'}\n",
    "\n",
    "# Unimos ambos sets en uno solo, añadiendo todos los elementos de 'telefonos1' a 'telefonos'\n",
    "telefonos.update(telefonos1)\n",
    "\n",
    "# Añadimos una marca nueva, 'Apple', al set 'telefonos'\n",
    "telefonos.add('Apple')\n",
    "\n",
    "\n",
    "print('La lista unida y actualizada queda así:', telefonos)\n",
    "print('Después de agregar Apple, el set de teléfonos es:', telefonos)\n",
    "print('El set final de teléfonos es:', telefonos)\n",
    "\n"
   ]
  },
  {
   "cell_type": "markdown",
   "metadata": {},
   "source": [
    "# ¿Como  eliminamos un elemento?"
   ]
  },
  {
   "cell_type": "code",
   "execution_count": 22,
   "metadata": {},
   "outputs": [
    {
     "name": "stdout",
     "output_type": "stream",
     "text": [
      "Eliminamos el elemento: {'Ferrari', 'Chevrolet', 'Peugeot'}\n",
      "Descartamos un elemento: {'Ferrari', 'Chevrolet', 'Peugeot'}\n"
     ]
    }
   ],
   "source": [
    "autos = {'Ford' , 'Peugeot' , 'Ferrari' , 'Chevrolet' , 'Kia'}\n",
    "\n",
    "\n",
    "autos.remove('Ford') # borra un elemento que coincida exacta,emte con lo pasado por el argumento (sino , da error)\n",
    "autos.discard('Kia') # borra un elemento que coincida exactamente con lo pasado por argumento (Nos da un error si no existe)\n",
    "autos.pop() # Elimina uno de manera aleatoria\n",
    "autos.clear() # Borra todos\n",
    "\n",
    "print('Eliminamos el elemento:' , autos)\n",
    "print('Descartamos un elemento:' , autos)"
   ]
  },
  {
   "cell_type": "markdown",
   "metadata": {},
   "source": [
    "# ¿Como recorremos los elementos de un conjunto?"
   ]
  },
  {
   "cell_type": "code",
   "execution_count": 27,
   "metadata": {},
   "outputs": [
    {
     "name": "stdout",
     "output_type": "stream",
     "text": [
      "Ciencia de Datos\n",
      "Machine Learning\n",
      "Python\n",
      "1. Ciencia de Datos\n",
      "2. Machine Learning\n",
      "3. Python\n"
     ]
    }
   ],
   "source": [
    "ia = {'Python','Machine Learning', 'Ciencia de Datos'}\n",
    "\n",
    "\n",
    "for InteligenciaArtificial in ia:\n",
    "    print(InteligenciaArtificial)\n",
    "\n",
    "for i, elem in enumerate(ia):\n",
    "    print(f'{i+1}. {elem}')\n"
   ]
  },
  {
   "cell_type": "markdown",
   "metadata": {},
   "source": [
    "# Union de Conjuntos"
   ]
  },
  {
   "cell_type": "code",
   "execution_count": 42,
   "metadata": {},
   "outputs": [
    {
     "name": "stdout",
     "output_type": "stream",
     "text": [
      "Diferencia simétrica entre a y b: {2, 4}\n",
      "Elementos en 'a' que no están en 'b': {2, 4}\n",
      "Elementos en 'b' que no están en 'a': set()\n",
      "El conjunto original modificado queda así: {1, 2, 3, 4, 5, 7, 9}\n",
      "Los elementos que tienen en común son: {1, 3, 5, 7, 9}\n",
      "Unión de a y booleanos: {False, 1, 2, 3, 4, 5, 7, 9}\n",
      "La intersección de booleanos queda así: {True}\n"
     ]
    }
   ],
   "source": [
    "# Definimos dos conjuntos a y b\n",
    "a = {1, 2, 3, 4, 5}\n",
    "b = {1, 3, 5, 7, 9}\n",
    "booleanos = {True, False}  # Conjunto de valores booleanos\n",
    "\n",
    "# Usamos el método update() para modificar el conjunto a\n",
    "# Esto agrega los elementos de b a a sin crear un nuevo conjunto\n",
    "a.update(b)  # a ahora contiene {1, 2, 3, 4, 5, 7, 9}\n",
    "\n",
    "# Realizamos la unión de a y b, que crea un nuevo conjunto\n",
    "c = a.union(b)  # c contiene todos los elementos de a y b\n",
    "\n",
    "# Realizamos la intersección de a y b, que crea un nuevo conjunto\n",
    "i = a.intersection(b)  # i contiene los elementos comunes a y b\n",
    "\n",
    "# Unión de a y el conjunto de booleanos\n",
    "# True se considera igual a 1, así que solo se añade False\n",
    "booleanos_union = a.union(booleanos)  # Unión de a y booleanos\n",
    "booleanos_interseccion = a.intersection(booleanos)  # Solo True se considera igual a 1\n",
    "\n",
    "# Diferencias: devuelve los elementos del primer conjunto que no estén en el segundo\n",
    "d = a.difference(b)  # Elementos en a que no están en b\n",
    "d2 = b.difference(a)  # Elementos en b que no están en a\n",
    "\n",
    "# Diferencia simétrica : devuelve los elementos que no esten presentes en ambos conjuntos\n",
    "ds1 = a.symmetric_difference(b)\n",
    "\n",
    "\n",
    "print('Diferencia simétrica entre a y b:', ds1)\n",
    "print(\"Elementos en 'a' que no están en 'b':\", d)   \n",
    "print(\"Elementos en 'b' que no están en 'a':\", d2)  \n",
    "print('El conjunto original modificado queda así:', a)  \n",
    "print('Los elementos que tienen en común son:', i) \n",
    "print('Unión de a y booleanos:', booleanos_union)  \n",
    "print('La intersección de booleanos queda así:', booleanos_interseccion)  \n",
    "\n"
   ]
  }
 ],
 "metadata": {
  "kernelspec": {
   "display_name": "Python 3",
   "language": "python",
   "name": "python3"
  },
  "language_info": {
   "codemirror_mode": {
    "name": "ipython",
    "version": 3
   },
   "file_extension": ".py",
   "mimetype": "text/x-python",
   "name": "python",
   "nbconvert_exporter": "python",
   "pygments_lexer": "ipython3",
   "version": "3.12.5"
  }
 },
 "nbformat": 4,
 "nbformat_minor": 2
}
