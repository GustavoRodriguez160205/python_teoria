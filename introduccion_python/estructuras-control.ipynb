{
 "cells": [
  {
   "cell_type": "markdown",
   "metadata": {},
   "source": [
    "# Estructuras de Control en Python\n",
    "\n",
    "Las estructuras de control son fundamentales en la programación, ya que permiten modificar el flujo de ejecución del código según ciertas condiciones o repeticiones. En Python, las estructuras de control más comunes son `if`, `for` y `while`.\n",
    "\n",
    "## 1. Condicionales `if`\n",
    "\n",
    "La estructura `if` permite ejecutar un bloque de código si se cumple una condición específica.\n",
    "\n",
    "## 2. For\n",
    "\n",
    "La estructura `for` permite iterar sobre una secuencia , como una lista , tupla o una cadena de texto\n",
    "\n",
    "## 3. While `while`\n",
    "\n",
    "Ejecuta un bloque de código mientras se cumpla una condición"
   ]
  },
  {
   "cell_type": "markdown",
   "metadata": {},
   "source": [
    "# Estructura IF\n"
   ]
  },
  {
   "cell_type": "code",
   "execution_count": 11,
   "metadata": {},
   "outputs": [
    {
     "name": "stdout",
     "output_type": "stream",
     "text": [
      "7 es mayor que 6\n"
     ]
    }
   ],
   "source": [
    "a = 5\n",
    "b = 6\n",
    "c = 7\n",
    "\n",
    "# Comprobar si 'a' es mayor que 'b'\n",
    "if a > b:\n",
    "    print(f'{a} es mayor que {b}')  # Si 'a' es mayor que 'b', imprime este mensaje\n",
    "# Si la condición anterior no se cumple, se comprueba si 'c' es mayor que 'b'\n",
    "elif c > b:\n",
    "    print(f'{c} es mayor que {b}')  # Si 'c' es mayor que 'b', imprime este mensaje\n",
    "# Si ninguna de las condiciones anteriores se cumple\n",
    "else:\n",
    "    print(f'{a} es menos que {b} y {c} es menos que {b}')  # Imprime este mensaje si 'a' y 'c' son menores que 'b'\n",
    "\n",
    "\n"
   ]
  },
  {
   "cell_type": "markdown",
   "metadata": {},
   "source": [
    "# Un ejemplo "
   ]
  },
  {
   "cell_type": "code",
   "execution_count": 12,
   "metadata": {},
   "outputs": [
    {
     "name": "stdout",
     "output_type": "stream",
     "text": [
      "Puedes entrar al boliche\n"
     ]
    }
   ],
   "source": [
    "edad = 20\n",
    "\n",
    "if edad >= 18 and edad <= 55:\n",
    "    print('Puedes entrar al boliche')\n",
    "else:\n",
    "    if edad <= 18:\n",
    "        print('No tenes la edad suficiente para entrar')\n",
    "    else:\n",
    "        print('Aca solo pasan hasta 55 años')"
   ]
  },
  {
   "cell_type": "code",
   "execution_count": 13,
   "metadata": {},
   "outputs": [
    {
     "name": "stdout",
     "output_type": "stream",
     "text": [
      "4 es menor que 6\n"
     ]
    }
   ],
   "source": [
    "# ShortHunds\n",
    "\n",
    "a = 4\n",
    "b = 6\n",
    "\n",
    "if b > a : print(f'{a} es menor que {b}')"
   ]
  },
  {
   "cell_type": "markdown",
   "metadata": {},
   "source": [
    "# Bucle While\n"
   ]
  },
  {
   "cell_type": "code",
   "execution_count": 34,
   "metadata": {},
   "outputs": [
    {
     "name": "stdout",
     "output_type": "stream",
     "text": [
      "1\n",
      "2\n",
      "3\n",
      "4\n",
      "5\n"
     ]
    }
   ],
   "source": [
    "contador = 1\n",
    "\n",
    "while contador <= 5:\n",
    "    print(contador)\n",
    "    contador += 1  # Incrementa el contador en 1\n"
   ]
  },
  {
   "cell_type": "code",
   "execution_count": 36,
   "metadata": {},
   "outputs": [
    {
     "name": "stdout",
     "output_type": "stream",
     "text": [
      "Hola a todos estoy dentro del bucle y vale 0\n",
      "Hola a todos estoy dentro del bucle y vale 1\n",
      "Hola a todos estoy dentro del bucle y vale 2\n",
      "Hola a todos estoy dentro del bucle y vale 3\n",
      "Hola a todos estoy dentro del bucle y vale 4\n",
      "Hola a todos estoy dentro del bucle y vale 5\n",
      "Hola a todos estoy dentro del bucle y vale 6\n",
      "Hola a todos estoy dentro del bucle y vale 7\n",
      "Hola a todos estoy dentro del bucle y vale 8\n",
      "Hola a todos estoy dentro del bucle y vale 9\n",
      "Hola a todos estoy dentro del bucle y vale 10\n",
      "11\n"
     ]
    }
   ],
   "source": [
    "x = 0\n",
    "\n",
    "while x <= 10:\n",
    "     print(f'Hola a todos estoy dentro del bucle y vale {x}')\n",
    "     x += 1\n",
    "else:\n",
    "     print(f'Ya no se cumplio la condición del bucle porque x es {x}')\n",
    "\n",
    "print(x)\n",
    "\n",
    "# Break : hace que salga del bucle\n",
    "# Continue : Saltea las líneas de acá en adelante"
   ]
  },
  {
   "cell_type": "code",
   "execution_count": null,
   "metadata": {},
   "outputs": [
    {
     "name": "stdout",
     "output_type": "stream",
     "text": [
      "No te olvides de repasar el contenido\n",
      "No te olvides de repasar el contenido\n",
      "No te olvides de repasar el contenido\n",
      "No te olvides de repasar el contenido\n",
      "No te olvides de repasar el contenido\n",
      "No te olvides de repasar el contenido\n",
      "No te olvides de repasar el contenido\n",
      "No te olvides de repasar el contenido\n",
      "No te olvides de repasar el contenido\n",
      "No te olvides de repasar el contenido\n",
      "No te olvides de repasar el contenido\n",
      "No te olvides de repasar el contenido\n",
      "No te olvides de repasar el contenido\n",
      "No te olvides de repasar el contenido\n",
      "No te olvides de repasar el contenido\n",
      "No te olvides de repasar el contenido\n",
      "No te olvides de repasar el contenido\n",
      "No te olvides de repasar el contenido\n",
      "No te olvides de repasar el contenido\n",
      "No te olvides de repasar el contenido\n",
      "No te olvides de repasar el contenido\n"
     ]
    }
   ],
   "source": [
    "while True:\n",
    "    print('No te olvides de repasar el contenido')\n",
    "    resp = input('¿Desea continuar? (s/n): ').strip().lower()\n",
    "    if resp == 'n':\n",
    "        break\n",
    "\n"
   ]
  },
  {
   "cell_type": "markdown",
   "metadata": {},
   "source": [
    "# Bucle For"
   ]
  },
  {
   "cell_type": "code",
   "execution_count": 14,
   "metadata": {},
   "outputs": [
    {
     "name": "stdout",
     "output_type": "stream",
     "text": [
      "4 . Angular\n",
      "Esas son todas las tecnologías que se\n"
     ]
    }
   ],
   "source": [
    "tecnologias = ['Python' , 'JavaScript' , 'Sql' , 'Angular' , 'C#' , 'Flask']\n",
    "x = 1\n",
    "\n",
    "for tecnologia in tecnologias:\n",
    "     if tecnologia == 'Angular':\n",
    "         # break\n",
    "         # continue\n",
    "         print(f'{x} . {tecnologia}')\n",
    "     x += 1\n",
    "else:\n",
    "     print('Esas son todas las tecnologías que se')\n"
   ]
  },
  {
   "cell_type": "markdown",
   "metadata": {},
   "source": [
    "# Iteración de un string"
   ]
  },
  {
   "cell_type": "code",
   "execution_count": 9,
   "metadata": {},
   "outputs": [
    {
     "name": "stdout",
     "output_type": "stream",
     "text": [
      "E\n",
      "s\n",
      " \n",
      "u\n",
      "n\n",
      " \n",
      "t\n",
      "e\n",
      "x\n",
      "t\n",
      "o\n"
     ]
    }
   ],
   "source": [
    "texto = 'Es un texto'\n",
    "\n",
    "for letra in texto:\n",
    "    print(letra)"
   ]
  },
  {
   "cell_type": "markdown",
   "metadata": {},
   "source": [
    "# Iterar un rango de números"
   ]
  },
  {
   "cell_type": "code",
   "execution_count": 11,
   "metadata": {},
   "outputs": [
    {
     "name": "stdout",
     "output_type": "stream",
     "text": [
      "0\n",
      "1\n",
      "2\n",
      "3\n",
      "4\n",
      "5\n",
      "6\n",
      "7\n",
      "8\n",
      "9\n",
      "2\n"
     ]
    }
   ],
   "source": [
    "for x in range(10): # Imprime desde el cero al número que le colocamos\n",
    "    print(x)"
   ]
  },
  {
   "cell_type": "code",
   "execution_count": 12,
   "metadata": {},
   "outputs": [
    {
     "name": "stdout",
     "output_type": "stream",
     "text": [
      "2\n",
      "4\n",
      "6\n",
      "8\n",
      "10\n"
     ]
    }
   ],
   "source": [
    "for a in range(2 , 11 ,2): # Nos sirve para poner intervalos\n",
    "    print(a)"
   ]
  },
  {
   "cell_type": "code",
   "execution_count": 17,
   "metadata": {},
   "outputs": [
    {
     "name": "stdout",
     "output_type": "stream",
     "text": [
      "a 1\n",
      "a 2\n",
      "a 3\n",
      "b 1\n",
      "b 2\n",
      "b 3\n",
      "c 1\n",
      "c 2\n",
      "c 3\n"
     ]
    }
   ],
   "source": [
    "letras = ['a' , 'b' , 'c']\n",
    "numeros = [1 , 2 , 3]\n",
    "\n",
    "for l in letras:\n",
    "    for n in numeros:\n",
    "        print(l,n)"
   ]
  }
 ],
 "metadata": {
  "kernelspec": {
   "display_name": "Python 3",
   "language": "python",
   "name": "python3"
  },
  "language_info": {
   "codemirror_mode": {
    "name": "ipython",
    "version": 3
   },
   "file_extension": ".py",
   "mimetype": "text/x-python",
   "name": "python",
   "nbconvert_exporter": "python",
   "pygments_lexer": "ipython3",
   "version": "3.12.5"
  }
 },
 "nbformat": 4,
 "nbformat_minor": 2
}
